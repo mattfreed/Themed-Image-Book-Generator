{
 "cells": [
  {
   "cell_type": "code",
   "execution_count": 35,
   "id": "5dedf72b",
   "metadata": {},
   "outputs": [],
   "source": [
    "import openai\n",
    "import json\n",
    "import csv\n",
    "\n",
    "# Open and read the API key from the 'key.txt' file, then strip any newline characters\n",
    "# Set the API key for OpenAI\n",
    "openai.api_key = open(\"key.txt\", \"r\").read().strip(\"\\n\")"
   ]
  },
  {
   "cell_type": "code",
   "execution_count": 36,
   "id": "c7a26674",
   "metadata": {},
   "outputs": [],
   "source": [
    "# Assign the string containing the request for poem themes to the variable 'input_val'\n",
    "input_val = \"Return to me a list of 100 unique short poem themes that can be used as a daily mindful practice where people write a daily poem about each one of the themes. Make sure you provide 100 themes.\""
   ]
  },
  {
   "cell_type": "code",
   "execution_count": 37,
   "id": "3bfff51a",
   "metadata": {},
   "outputs": [],
   "source": [
    "# Initialize an empty string variable 'additional_info' to hold any additional information or context\n",
    "\n",
    "additional_info = \"\""
   ]
  },
  {
   "cell_type": "code",
   "execution_count": 43,
   "id": "0390b6db",
   "metadata": {},
   "outputs": [],
   "source": [
    "#chatGPT function call\n",
    "\n",
    "# Initialize 'list_theme' variable to store the category of the list (i.e., 'poem themes')\n",
    "list_theme = \"poem themes\"\n",
    "\n",
    "# Make a function call to the OpenAI API's ChatCompletion endpoint\n",
    "completion = openai.ChatCompletion.create(\n",
    "\n",
    "# Specify the model to use, in this case, \"gpt-3.5-turbo-0613\"\n",
    "model=\"gpt-3.5-turbo-0613\",\n",
    "    \n",
    "# Pass in the list of messages to simulate a conversation\n",
    "# 'input_val' is the user's question or command \n",
    "messages=[{\"role\": \"user\", \"content\": input_val}],\n",
    "\n",
    "# Define the function that the OpenAI API will execute\n",
    "functions=[\n",
    "    {\n",
    "        # Name of the function, \"get_list_of_poem_themes\"\n",
    "        \"name\": \"list_of_poem_themes\",\n",
    "        # Description of what the function does\n",
    "        \"description\": \"a function that returns an array of multiple poem themes\",\n",
    "        # Parameters that the function will use\n",
    "        \"parameters\": {\n",
    "            \"type\" : \"object\",\n",
    "            \"properties\": {\n",
    "                # Define 'report_array' which will be an array of strings (poem themes)\n",
    "                \"report_array\": {\n",
    "                    \"type\" : \"array\",\n",
    "                    \"items\": {\n",
    "                        \"type\": \"string\",\n",
    "                        \"description\": \"A singular poem theme\"\n",
    "                        },\n",
    "                    \"description\": \"a list of the requested poem themes\"\n",
    "                    },\n",
    "                },\n",
    "            },\n",
    "            \n",
    "        }\n",
    "],\n",
    "# Call the function 'get_list_of_poem_themes' to execute\n",
    "function_call={\"name\": \"list_of_poem_themes\"},\n",
    ")\n",
    "\n"
   ]
  },
  {
   "cell_type": "code",
   "execution_count": 44,
   "id": "24a6ef01",
   "metadata": {},
   "outputs": [
    {
     "name": "stdout",
     "output_type": "stream",
     "text": [
      "{\n",
      "  \"report_array\": [\"Nature\", \"Love\", \"Hope\", \"Joy\", \"Sadness\", \"Transformation\", \"Solitude\", \"Friendship\", \"Reflection\", \"Courage\", \"Gratitude\", \"Beauty\", \"Peace\", \"Adventure\", \"Dreams\", \"Inspiration\", \"Memories\", \"Balance\", \"Creativity\", \"Laughter\", \"Curiosity\", \"Passion\", \"Acceptance\", \"Growth\", \"Simplicity\", \"Forgiveness\", \"Wonder\", \"Connection\", \"Imagination\", \"Harmony\", \"Kindness\", \"Strength\", \"Patience\", \"Nostalgia\", \"Wisdom\", \"Healing\", \"Empathy\", \"Faith\", \"Journey\", \"Contentment\", \"Change\", \"Silence\", \"Gratefulness\", \"Bravery\", \"Happiness\", \"Purpose\", \"Appreciation\", \"Resilience\", \"Generosity\", \"Authenticity\", \"Intuition\", \"Compassion\", \"Serenity\", \"Trust\", \"Inspiration\", \"Calmness\", \"Self-discovery\", \"Optimism\", \"Transcendence\", \"Belonging\", \"Playfulness\", \"Wonderment\", \"Impermanence\", \"Surrender\", \"Admiration\", \"Mindfulness\", \"Harvest\", \"Empowerment\", \"Hardship\", \"Exuberance\", \"Restoration\", \"Vulnerability\", \"Imperfection\", \"Endurance\", \"Transformation\", \"Purpose\", \"Freedom\", \"Threshold\", \"Commitment\", \"Gratefulness\", \"Endings\", \"Beginnings\", \"Rebirth\", \"Identity\", \"Unconditional Love\", \"Equanimity\", \"Acceptance\", \"Peacefulness\", \"Epiphany\", \"Companionship\", \"Connection\", \"Harmony\", \"Aspiration\", \"Release\", \"Gentleness\", \"Empathy\"]\n",
      "}\n"
     ]
    }
   ],
   "source": [
    "# Access the ChatCompletion response from GPT\n",
    "# 'completion.choices[0].message' fetches the first (and usually only) generated message from GPT\n",
    "reply_content = completion.choices[0].message\n",
    "\n",
    "# Extract the 'function_call' arguments from the message\n",
    "# '.to_dict()' converts the object to a dictionary so that we can easily access its elements\n",
    "# We then access the 'arguments' key under the 'function_call' to get the arguments passed to the function\n",
    "response_options = reply_content.to_dict()['function_call']['arguments']\n",
    "\n",
    "print(response_options)\n"
   ]
  },
  {
   "cell_type": "code",
   "execution_count": 45,
   "id": "237d67b7",
   "metadata": {},
   "outputs": [],
   "source": [
    "# Convert the 'response_options' string to a JSON object using 'json.loads'\n",
    "# This assumes that 'response_options' is a JSON-formatted string\n",
    "options = json.loads(response_options)\n",
    "\n",
    "# Open a new JSON file named 'report.json' for writing ('w')\n",
    "# Save the JSON object to the file\n",
    "with open(\"report.json\", \"w\") as outfile:\n",
    "    # Dump the 'options' JSON object into the file\n",
    "    json.dump(options, outfile)"
   ]
  },
  {
   "cell_type": "code",
   "execution_count": 57,
   "id": "40e385f2",
   "metadata": {},
   "outputs": [
    {
     "name": "stdout",
     "output_type": "stream",
     "text": [
      "['Nature', 'Love', 'Hope', 'Joy', 'Sadness', 'Transformation', 'Solitude', 'Friendship', 'Reflection', 'Courage', 'Gratitude', 'Beauty', 'Peace', 'Adventure', 'Dreams', 'Inspiration', 'Memories', 'Balance', 'Creativity', 'Laughter', 'Curiosity', 'Passion', 'Acceptance', 'Growth', 'Simplicity', 'Forgiveness', 'Wonder', 'Connection', 'Imagination', 'Harmony', 'Kindness', 'Strength', 'Patience', 'Nostalgia', 'Wisdom', 'Healing', 'Empathy', 'Faith', 'Journey', 'Contentment', 'Change', 'Silence', 'Gratefulness', 'Bravery', 'Happiness', 'Purpose', 'Appreciation', 'Resilience', 'Generosity', 'Authenticity', 'Intuition', 'Compassion', 'Serenity', 'Trust', 'Inspiration', 'Calmness', 'Self-discovery', 'Optimism', 'Transcendence', 'Belonging', 'Playfulness', 'Wonderment', 'Impermanence', 'Surrender', 'Admiration', 'Mindfulness', 'Harvest', 'Empowerment', 'Hardship', 'Exuberance', 'Restoration', 'Vulnerability', 'Imperfection', 'Endurance', 'Transformation', 'Purpose', 'Freedom', 'Threshold', 'Commitment', 'Gratefulness', 'Endings', 'Beginnings', 'Rebirth', 'Identity', 'Unconditional Love', 'Equanimity', 'Acceptance', 'Peacefulness', 'Epiphany', 'Companionship', 'Connection', 'Harmony', 'Aspiration', 'Release', 'Gentleness', 'Empathy']\n"
     ]
    }
   ],
   "source": [
    "print(options['report_array'])"
   ]
  },
  {
   "cell_type": "code",
   "execution_count": 68,
   "id": "d7d9e0a0",
   "metadata": {},
   "outputs": [],
   "source": [
    "import pandas as pd\n",
    "from pandas.api.types import CategoricalDtype\n",
    "\n",
    "df = pd.DataFrame(options['report_array'])\n",
    "\n",
    "# Reset the DataFrame index\n",
    "# 'drop=True' prevents the old index from being added as a new column in the DataFrame\n",
    "df = df.reset_index(drop=True)\n",
    "\n",
    "# Save the DataFrame to a CSV file named 'report.csv'\n",
    "df.to_csv('report.csv',header=False, index=False)"
   ]
  },
  {
   "cell_type": "code",
   "execution_count": 69,
   "id": "b5580bd8",
   "metadata": {},
   "outputs": [
    {
     "data": {
      "text/html": [
       "<div>\n",
       "<style scoped>\n",
       "    .dataframe tbody tr th:only-of-type {\n",
       "        vertical-align: middle;\n",
       "    }\n",
       "\n",
       "    .dataframe tbody tr th {\n",
       "        vertical-align: top;\n",
       "    }\n",
       "\n",
       "    .dataframe thead th {\n",
       "        text-align: right;\n",
       "    }\n",
       "</style>\n",
       "<table border=\"1\" class=\"dataframe\">\n",
       "  <thead>\n",
       "    <tr style=\"text-align: right;\">\n",
       "      <th></th>\n",
       "      <th>0</th>\n",
       "    </tr>\n",
       "  </thead>\n",
       "  <tbody>\n",
       "    <tr>\n",
       "      <th>0</th>\n",
       "      <td>Nature</td>\n",
       "    </tr>\n",
       "    <tr>\n",
       "      <th>1</th>\n",
       "      <td>Love</td>\n",
       "    </tr>\n",
       "    <tr>\n",
       "      <th>2</th>\n",
       "      <td>Hope</td>\n",
       "    </tr>\n",
       "    <tr>\n",
       "      <th>3</th>\n",
       "      <td>Joy</td>\n",
       "    </tr>\n",
       "    <tr>\n",
       "      <th>4</th>\n",
       "      <td>Sadness</td>\n",
       "    </tr>\n",
       "    <tr>\n",
       "      <th>...</th>\n",
       "      <td>...</td>\n",
       "    </tr>\n",
       "    <tr>\n",
       "      <th>91</th>\n",
       "      <td>Harmony</td>\n",
       "    </tr>\n",
       "    <tr>\n",
       "      <th>92</th>\n",
       "      <td>Aspiration</td>\n",
       "    </tr>\n",
       "    <tr>\n",
       "      <th>93</th>\n",
       "      <td>Release</td>\n",
       "    </tr>\n",
       "    <tr>\n",
       "      <th>94</th>\n",
       "      <td>Gentleness</td>\n",
       "    </tr>\n",
       "    <tr>\n",
       "      <th>95</th>\n",
       "      <td>Empathy</td>\n",
       "    </tr>\n",
       "  </tbody>\n",
       "</table>\n",
       "<p>96 rows × 1 columns</p>\n",
       "</div>"
      ],
      "text/plain": [
       "             0\n",
       "0       Nature\n",
       "1         Love\n",
       "2         Hope\n",
       "3          Joy\n",
       "4      Sadness\n",
       "..         ...\n",
       "91     Harmony\n",
       "92  Aspiration\n",
       "93     Release\n",
       "94  Gentleness\n",
       "95     Empathy\n",
       "\n",
       "[96 rows x 1 columns]"
      ]
     },
     "execution_count": 69,
     "metadata": {},
     "output_type": "execute_result"
    }
   ],
   "source": [
    "df"
   ]
  },
  {
   "cell_type": "code",
   "execution_count": null,
   "id": "afa98b17",
   "metadata": {},
   "outputs": [],
   "source": []
  }
 ],
 "metadata": {
  "kernelspec": {
   "display_name": "Python 3 (ipykernel)",
   "language": "python",
   "name": "python3"
  },
  "language_info": {
   "codemirror_mode": {
    "name": "ipython",
    "version": 3
   },
   "file_extension": ".py",
   "mimetype": "text/x-python",
   "name": "python",
   "nbconvert_exporter": "python",
   "pygments_lexer": "ipython3",
   "version": "3.9.17"
  }
 },
 "nbformat": 4,
 "nbformat_minor": 5
}
