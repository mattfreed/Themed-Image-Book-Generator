{
 "cells": [
  {
   "cell_type": "code",
   "execution_count": null,
   "id": "e67d2462",
   "metadata": {},
   "outputs": [],
   "source": [
    "import pandas as pd\n",
    "\n",
    "\n",
    "csv=\"Poems/Vol1/poems_vol1.csv\"\n",
    "titles = pd.read_csv(csv).columns.tolist()\n",
    "prompt = \", simple, thick lines, black and white, white background --aspect 7:4\"\n",
    "prompts = []\n",
    "\n",
    "for title in titles:\n",
    "    prompts.append(title+prompt)\n",
    "\n",
    "df = pd.DataFrame(prompts)\n",
    "pd.set_option(\"display.max_rows\", None, \"display.max_columns\", None)\n",
    "pd.set_option('display.max_colwidth', None)\n",
    "\n",
    "    \n"
   ]
  },
  {
   "cell_type": "code",
   "execution_count": null,
   "id": "ca67ec4e",
   "metadata": {},
   "outputs": [],
   "source": [
    "df"
   ]
  },
  {
   "cell_type": "code",
   "execution_count": null,
   "id": "41ad16dd",
   "metadata": {},
   "outputs": [],
   "source": []
  }
 ],
 "metadata": {
  "kernelspec": {
   "display_name": "Python 3 (ipykernel)",
   "language": "python",
   "name": "python3"
  },
  "language_info": {
   "codemirror_mode": {
    "name": "ipython",
    "version": 3
   },
   "file_extension": ".py",
   "mimetype": "text/x-python",
   "name": "python",
   "nbconvert_exporter": "python",
   "pygments_lexer": "ipython3",
   "version": "3.9.17"
  }
 },
 "nbformat": 4,
 "nbformat_minor": 5
}
